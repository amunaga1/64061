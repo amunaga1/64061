{
  "nbformat": 4,
  "nbformat_minor": 0,
  "metadata": {
    "colab": {
      "provenance": []
    },
    "kernelspec": {
      "name": "python3",
      "display_name": "Python 3"
    },
    "language_info": {
      "name": "python"
    }
  },
  "cells": [
    {
      "cell_type": "code",
      "source": [
        "from google.colab import files\n",
        "files.upload()"
      ],
      "metadata": {
        "id": "5QddoCOdB1OP",
        "colab": {
          "base_uri": "https://localhost:8080/",
          "height": 90
        },
        "outputId": "bd42f642-3be8-4ebf-846e-af5cd25ccb3f"
      },
      "execution_count": 1,
      "outputs": [
        {
          "output_type": "display_data",
          "data": {
            "text/plain": [
              "<IPython.core.display.HTML object>"
            ],
            "text/html": [
              "\n",
              "     <input type=\"file\" id=\"files-2c034de4-4198-4f64-be79-527314fa8d25\" name=\"files[]\" multiple disabled\n",
              "        style=\"border:none\" />\n",
              "     <output id=\"result-2c034de4-4198-4f64-be79-527314fa8d25\">\n",
              "      Upload widget is only available when the cell has been executed in the\n",
              "      current browser session. Please rerun this cell to enable.\n",
              "      </output>\n",
              "      <script>// Copyright 2017 Google LLC\n",
              "//\n",
              "// Licensed under the Apache License, Version 2.0 (the \"License\");\n",
              "// you may not use this file except in compliance with the License.\n",
              "// You may obtain a copy of the License at\n",
              "//\n",
              "//      http://www.apache.org/licenses/LICENSE-2.0\n",
              "//\n",
              "// Unless required by applicable law or agreed to in writing, software\n",
              "// distributed under the License is distributed on an \"AS IS\" BASIS,\n",
              "// WITHOUT WARRANTIES OR CONDITIONS OF ANY KIND, either express or implied.\n",
              "// See the License for the specific language governing permissions and\n",
              "// limitations under the License.\n",
              "\n",
              "/**\n",
              " * @fileoverview Helpers for google.colab Python module.\n",
              " */\n",
              "(function(scope) {\n",
              "function span(text, styleAttributes = {}) {\n",
              "  const element = document.createElement('span');\n",
              "  element.textContent = text;\n",
              "  for (const key of Object.keys(styleAttributes)) {\n",
              "    element.style[key] = styleAttributes[key];\n",
              "  }\n",
              "  return element;\n",
              "}\n",
              "\n",
              "// Max number of bytes which will be uploaded at a time.\n",
              "const MAX_PAYLOAD_SIZE = 100 * 1024;\n",
              "\n",
              "function _uploadFiles(inputId, outputId) {\n",
              "  const steps = uploadFilesStep(inputId, outputId);\n",
              "  const outputElement = document.getElementById(outputId);\n",
              "  // Cache steps on the outputElement to make it available for the next call\n",
              "  // to uploadFilesContinue from Python.\n",
              "  outputElement.steps = steps;\n",
              "\n",
              "  return _uploadFilesContinue(outputId);\n",
              "}\n",
              "\n",
              "// This is roughly an async generator (not supported in the browser yet),\n",
              "// where there are multiple asynchronous steps and the Python side is going\n",
              "// to poll for completion of each step.\n",
              "// This uses a Promise to block the python side on completion of each step,\n",
              "// then passes the result of the previous step as the input to the next step.\n",
              "function _uploadFilesContinue(outputId) {\n",
              "  const outputElement = document.getElementById(outputId);\n",
              "  const steps = outputElement.steps;\n",
              "\n",
              "  const next = steps.next(outputElement.lastPromiseValue);\n",
              "  return Promise.resolve(next.value.promise).then((value) => {\n",
              "    // Cache the last promise value to make it available to the next\n",
              "    // step of the generator.\n",
              "    outputElement.lastPromiseValue = value;\n",
              "    return next.value.response;\n",
              "  });\n",
              "}\n",
              "\n",
              "/**\n",
              " * Generator function which is called between each async step of the upload\n",
              " * process.\n",
              " * @param {string} inputId Element ID of the input file picker element.\n",
              " * @param {string} outputId Element ID of the output display.\n",
              " * @return {!Iterable<!Object>} Iterable of next steps.\n",
              " */\n",
              "function* uploadFilesStep(inputId, outputId) {\n",
              "  const inputElement = document.getElementById(inputId);\n",
              "  inputElement.disabled = false;\n",
              "\n",
              "  const outputElement = document.getElementById(outputId);\n",
              "  outputElement.innerHTML = '';\n",
              "\n",
              "  const pickedPromise = new Promise((resolve) => {\n",
              "    inputElement.addEventListener('change', (e) => {\n",
              "      resolve(e.target.files);\n",
              "    });\n",
              "  });\n",
              "\n",
              "  const cancel = document.createElement('button');\n",
              "  inputElement.parentElement.appendChild(cancel);\n",
              "  cancel.textContent = 'Cancel upload';\n",
              "  const cancelPromise = new Promise((resolve) => {\n",
              "    cancel.onclick = () => {\n",
              "      resolve(null);\n",
              "    };\n",
              "  });\n",
              "\n",
              "  // Wait for the user to pick the files.\n",
              "  const files = yield {\n",
              "    promise: Promise.race([pickedPromise, cancelPromise]),\n",
              "    response: {\n",
              "      action: 'starting',\n",
              "    }\n",
              "  };\n",
              "\n",
              "  cancel.remove();\n",
              "\n",
              "  // Disable the input element since further picks are not allowed.\n",
              "  inputElement.disabled = true;\n",
              "\n",
              "  if (!files) {\n",
              "    return {\n",
              "      response: {\n",
              "        action: 'complete',\n",
              "      }\n",
              "    };\n",
              "  }\n",
              "\n",
              "  for (const file of files) {\n",
              "    const li = document.createElement('li');\n",
              "    li.append(span(file.name, {fontWeight: 'bold'}));\n",
              "    li.append(span(\n",
              "        `(${file.type || 'n/a'}) - ${file.size} bytes, ` +\n",
              "        `last modified: ${\n",
              "            file.lastModifiedDate ? file.lastModifiedDate.toLocaleDateString() :\n",
              "                                    'n/a'} - `));\n",
              "    const percent = span('0% done');\n",
              "    li.appendChild(percent);\n",
              "\n",
              "    outputElement.appendChild(li);\n",
              "\n",
              "    const fileDataPromise = new Promise((resolve) => {\n",
              "      const reader = new FileReader();\n",
              "      reader.onload = (e) => {\n",
              "        resolve(e.target.result);\n",
              "      };\n",
              "      reader.readAsArrayBuffer(file);\n",
              "    });\n",
              "    // Wait for the data to be ready.\n",
              "    let fileData = yield {\n",
              "      promise: fileDataPromise,\n",
              "      response: {\n",
              "        action: 'continue',\n",
              "      }\n",
              "    };\n",
              "\n",
              "    // Use a chunked sending to avoid message size limits. See b/62115660.\n",
              "    let position = 0;\n",
              "    do {\n",
              "      const length = Math.min(fileData.byteLength - position, MAX_PAYLOAD_SIZE);\n",
              "      const chunk = new Uint8Array(fileData, position, length);\n",
              "      position += length;\n",
              "\n",
              "      const base64 = btoa(String.fromCharCode.apply(null, chunk));\n",
              "      yield {\n",
              "        response: {\n",
              "          action: 'append',\n",
              "          file: file.name,\n",
              "          data: base64,\n",
              "        },\n",
              "      };\n",
              "\n",
              "      let percentDone = fileData.byteLength === 0 ?\n",
              "          100 :\n",
              "          Math.round((position / fileData.byteLength) * 100);\n",
              "      percent.textContent = `${percentDone}% done`;\n",
              "\n",
              "    } while (position < fileData.byteLength);\n",
              "  }\n",
              "\n",
              "  // All done.\n",
              "  yield {\n",
              "    response: {\n",
              "      action: 'complete',\n",
              "    }\n",
              "  };\n",
              "}\n",
              "\n",
              "scope.google = scope.google || {};\n",
              "scope.google.colab = scope.google.colab || {};\n",
              "scope.google.colab._files = {\n",
              "  _uploadFiles,\n",
              "  _uploadFilesContinue,\n",
              "};\n",
              "})(self);\n",
              "</script> "
            ]
          },
          "metadata": {}
        },
        {
          "output_type": "stream",
          "name": "stdout",
          "text": [
            "Saving kaggle.json to kaggle.json\n"
          ]
        },
        {
          "output_type": "execute_result",
          "data": {
            "text/plain": [
              "{'kaggle.json': b'{\"username\":\"adityamunagala\",\"key\":\"0c876f34b72b2247deb7fb26ae97be9b\"}'}"
            ]
          },
          "metadata": {},
          "execution_count": 1
        }
      ]
    },
    {
      "cell_type": "code",
      "source": [
        "!mkdir ~/.kaggle/"
      ],
      "metadata": {
        "id": "Y0pUhUO4NOiW"
      },
      "execution_count": 2,
      "outputs": []
    },
    {
      "cell_type": "code",
      "source": [
        "!cp kaggle.json ~/.kaggle/\n",
        "!chmod 600 ~/.kaggle/kaggle.json"
      ],
      "metadata": {
        "id": "IqOv9T7YNRlp"
      },
      "execution_count": 3,
      "outputs": []
    },
    {
      "cell_type": "code",
      "source": [
        "!kaggle competitions download -c dogs-vs-cats"
      ],
      "metadata": {
        "colab": {
          "base_uri": "https://localhost:8080/"
        },
        "id": "C1W7zrPaNU-2",
        "outputId": "c35b9567-98d1-46a2-9b32-c49c6e605259"
      },
      "execution_count": 4,
      "outputs": [
        {
          "output_type": "stream",
          "name": "stdout",
          "text": [
            "Downloading dogs-vs-cats.zip to /content\n",
            "100% 810M/812M [00:28<00:00, 27.5MB/s]\n",
            "100% 812M/812M [00:28<00:00, 29.5MB/s]\n"
          ]
        }
      ]
    },
    {
      "cell_type": "code",
      "source": [
        "!unzip -qq dogs-vs-cats.zip"
      ],
      "metadata": {
        "id": "GB7k3hQsNeYt"
      },
      "execution_count": 5,
      "outputs": []
    },
    {
      "cell_type": "code",
      "source": [
        "!unzip -qq train.zip"
      ],
      "metadata": {
        "id": "3V5Fa376Nk_W"
      },
      "execution_count": 6,
      "outputs": []
    },
    {
      "cell_type": "code",
      "source": [
        "import os, shutil, pathlib\n",
        "\n",
        "original_dir = pathlib.Path(\"train\")\n",
        "new_base_dir = pathlib.Path(\"cats_vs_dogs_small_1\")\n",
        "\n",
        "def make_subset(subset_name, start_index, end_index):\n",
        "    for category in (\"cat\", \"dog\"):\n",
        "        dir = new_base_dir / subset_name / category\n",
        "        os.makedirs(dir)\n",
        "        fnames = [f\"{category}.{i}.jpg\" for i in range(start_index, end_index)]\n",
        "        for fname in fnames:\n",
        "            shutil.copyfile(src=original_dir / fname,\n",
        "                            dst=dir / fname)\n",
        "\n",
        "make_subset(\"train\", start_index=0, end_index=1000)\n",
        "make_subset(\"validation\", start_index=1000, end_index=1500)\n",
        "make_subset(\"test\", start_index=1500, end_index=2000)"
      ],
      "metadata": {
        "id": "v-HEUF9_Nq0B"
      },
      "execution_count": 7,
      "outputs": []
    },
    {
      "cell_type": "code",
      "source": [
        "from tensorflow import keras\n",
        "from tensorflow.keras import layers\n",
        "\n",
        "inputs = keras.Input(shape=(180, 180, 3))\n",
        "x = layers.Rescaling(1./255)(inputs)\n",
        "x = layers.Conv2D(filters=32, kernel_size=3, activation=\"relu\")(x)\n",
        "x = layers.MaxPooling2D(pool_size=2)(x)\n",
        "x = layers.Conv2D(filters=64, kernel_size=3, activation=\"relu\")(x)\n",
        "x = layers.MaxPooling2D(pool_size=2)(x)\n",
        "x = layers.Conv2D(filters=128, kernel_size=3, activation=\"relu\")(x)\n",
        "x = layers.MaxPooling2D(pool_size=2)(x)\n",
        "x = layers.Conv2D(filters=256, kernel_size=3, activation=\"relu\")(x)\n",
        "x = layers.MaxPooling2D(pool_size=2)(x)\n",
        "x = layers.Conv2D(filters=256, kernel_size=3, activation=\"relu\")(x)\n",
        "x = layers.Flatten()(x)\n",
        "outputs = layers.Dense(1, activation=\"sigmoid\")(x)\n",
        "model = keras.Model(inputs=inputs, outputs=outputs)\n",
        ""
      ],
      "metadata": {
        "id": "suNIHFkLNvU0"
      },
      "execution_count": 8,
      "outputs": []
    },
    {
      "cell_type": "code",
      "source": [
        "model.summary()"
      ],
      "metadata": {
        "colab": {
          "base_uri": "https://localhost:8080/"
        },
        "id": "LKxiD_65N0df",
        "outputId": "0afd3901-2657-4971-c95d-ff20d137c193"
      },
      "execution_count": 9,
      "outputs": [
        {
          "output_type": "stream",
          "name": "stdout",
          "text": [
            "Model: \"model\"\n",
            "_________________________________________________________________\n",
            " Layer (type)                Output Shape              Param #   \n",
            "=================================================================\n",
            " input_1 (InputLayer)        [(None, 180, 180, 3)]     0         \n",
            "                                                                 \n",
            " rescaling (Rescaling)       (None, 180, 180, 3)       0         \n",
            "                                                                 \n",
            " conv2d (Conv2D)             (None, 178, 178, 32)      896       \n",
            "                                                                 \n",
            " max_pooling2d (MaxPooling2  (None, 89, 89, 32)        0         \n",
            " D)                                                              \n",
            "                                                                 \n",
            " conv2d_1 (Conv2D)           (None, 87, 87, 64)        18496     \n",
            "                                                                 \n",
            " max_pooling2d_1 (MaxPoolin  (None, 43, 43, 64)        0         \n",
            " g2D)                                                            \n",
            "                                                                 \n",
            " conv2d_2 (Conv2D)           (None, 41, 41, 128)       73856     \n",
            "                                                                 \n",
            " max_pooling2d_2 (MaxPoolin  (None, 20, 20, 128)       0         \n",
            " g2D)                                                            \n",
            "                                                                 \n",
            " conv2d_3 (Conv2D)           (None, 18, 18, 256)       295168    \n",
            "                                                                 \n",
            " max_pooling2d_3 (MaxPoolin  (None, 9, 9, 256)         0         \n",
            " g2D)                                                            \n",
            "                                                                 \n",
            " conv2d_4 (Conv2D)           (None, 7, 7, 256)         590080    \n",
            "                                                                 \n",
            " flatten (Flatten)           (None, 12544)             0         \n",
            "                                                                 \n",
            " dense (Dense)               (None, 1)                 12545     \n",
            "                                                                 \n",
            "=================================================================\n",
            "Total params: 991041 (3.78 MB)\n",
            "Trainable params: 991041 (3.78 MB)\n",
            "Non-trainable params: 0 (0.00 Byte)\n",
            "_________________________________________________________________\n"
          ]
        }
      ]
    },
    {
      "cell_type": "code",
      "source": [
        "model.compile(loss=\"binary_crossentropy\",\n",
        "              optimizer=\"rmsprop\",\n",
        "              metrics=[\"accuracy\"])"
      ],
      "metadata": {
        "id": "WN2DrZmEN46o"
      },
      "execution_count": 10,
      "outputs": []
    },
    {
      "cell_type": "code",
      "source": [
        "from tensorflow.keras.utils import image_dataset_from_directory\n",
        "\n",
        "train_dataset = image_dataset_from_directory(\n",
        "    new_base_dir / \"train\",\n",
        "    image_size=(180, 180),\n",
        "    batch_size=32)\n",
        "validation_dataset = image_dataset_from_directory(\n",
        "    new_base_dir / \"validation\",\n",
        "    image_size=(180, 180),\n",
        "    batch_size=32)\n",
        "test_dataset = image_dataset_from_directory(\n",
        "    new_base_dir / \"test\",\n",
        "    image_size=(180, 180),\n",
        "    batch_size=32)"
      ],
      "metadata": {
        "colab": {
          "base_uri": "https://localhost:8080/"
        },
        "id": "QtO6514FN8yj",
        "outputId": "c511f80b-2fd3-475d-c79a-3e5010ed26df"
      },
      "execution_count": 11,
      "outputs": [
        {
          "output_type": "stream",
          "name": "stdout",
          "text": [
            "Found 2000 files belonging to 2 classes.\n",
            "Found 1000 files belonging to 2 classes.\n",
            "Found 1000 files belonging to 2 classes.\n"
          ]
        }
      ]
    },
    {
      "cell_type": "code",
      "source": [
        "from tensorflow import keras\n",
        "callbacks = [\n",
        "    keras.callbacks.ModelCheckpoint(\n",
        "        filepath=\"convnet_from_scratch1.x\",\n",
        "        save_best_only=True,\n",
        "        monitor=\"val_loss\"\n",
        "    )\n",
        "]\n",
        "history = model.fit(\n",
        "    train_dataset,\n",
        "    epochs=10,\n",
        "    validation_data=validation_dataset,\n",
        "    callbacks=callbacks)"
      ],
      "metadata": {
        "colab": {
          "base_uri": "https://localhost:8080/"
        },
        "id": "qcZv7o9wOA1d",
        "outputId": "f8a3fa52-3a12-4666-fdc1-1f236f663a33"
      },
      "execution_count": 12,
      "outputs": [
        {
          "output_type": "stream",
          "name": "stdout",
          "text": [
            "Epoch 1/10\n",
            "63/63 [==============================] - 168s 3s/step - loss: 0.6985 - accuracy: 0.5030 - val_loss: 0.6924 - val_accuracy: 0.5160\n",
            "Epoch 2/10\n",
            "63/63 [==============================] - 191s 3s/step - loss: 0.6961 - accuracy: 0.5185 - val_loss: 0.6856 - val_accuracy: 0.6300\n",
            "Epoch 3/10\n",
            "63/63 [==============================] - 161s 3s/step - loss: 0.6913 - accuracy: 0.5580 - val_loss: 0.6768 - val_accuracy: 0.5560\n",
            "Epoch 4/10\n",
            "63/63 [==============================] - 181s 3s/step - loss: 0.6617 - accuracy: 0.6060 - val_loss: 0.6251 - val_accuracy: 0.6440\n",
            "Epoch 5/10\n",
            "63/63 [==============================] - 181s 3s/step - loss: 0.6182 - accuracy: 0.6515 - val_loss: 0.7889 - val_accuracy: 0.5620\n",
            "Epoch 6/10\n",
            "63/63 [==============================] - 161s 3s/step - loss: 0.5904 - accuracy: 0.6915 - val_loss: 0.6178 - val_accuracy: 0.6480\n",
            "Epoch 7/10\n",
            "63/63 [==============================] - 156s 2s/step - loss: 0.5599 - accuracy: 0.7050 - val_loss: 0.6965 - val_accuracy: 0.6460\n",
            "Epoch 8/10\n",
            "63/63 [==============================] - 179s 3s/step - loss: 0.5259 - accuracy: 0.7390 - val_loss: 0.6757 - val_accuracy: 0.6710\n",
            "Epoch 9/10\n",
            "63/63 [==============================] - 165s 3s/step - loss: 0.4827 - accuracy: 0.7695 - val_loss: 0.6239 - val_accuracy: 0.7130\n",
            "Epoch 10/10\n",
            "63/63 [==============================] - 182s 3s/step - loss: 0.4600 - accuracy: 0.7800 - val_loss: 0.5699 - val_accuracy: 0.7350\n"
          ]
        }
      ]
    },
    {
      "cell_type": "markdown",
      "source": [
        "It can be shown that as the number of epochs increases, accuracy increases.\n",
        "\n",
        "Accuracy=77.2% Val_acc=67.7% test accuracy=63.6%"
      ],
      "metadata": {
        "id": "92SkyujqVXp4"
      }
    },
    {
      "cell_type": "code",
      "source": [
        "import matplotlib.pyplot as plt\n",
        "accuracy = history.history[\"accuracy\"]\n",
        "val_accuracy = history.history[\"val_accuracy\"]\n",
        "loss = history.history[\"loss\"]\n",
        "val_loss = history.history[\"val_loss\"]\n",
        "epochs = range(1, len(accuracy) + 1)\n",
        "plt.plot(epochs, accuracy, \"bo\", label=\"Training accuracy\")\n",
        "plt.plot(epochs, val_accuracy, \"b\", label=\"Validation accuracy\")\n",
        "plt.title(\"Training and validation accuracy\")\n",
        "plt.legend()\n",
        "plt.figure()\n",
        "plt.plot(epochs, loss, \"bo\", label=\"Training loss\")\n",
        "plt.plot(epochs, val_loss, \"b\", label=\"Validation loss\")\n",
        "plt.title(\"Training and validation loss\")\n",
        "plt.legend()\n",
        "plt.show()"
      ],
      "metadata": {
        "colab": {
          "base_uri": "https://localhost:8080/",
          "height": 887
        },
        "id": "V2CLT-_GVZBZ",
        "outputId": "9df9c799-a830-4496-d794-f2794bfb1905"
      },
      "execution_count": 13,
      "outputs": [
        {
          "output_type": "display_data",
          "data": {
            "text/plain": [
              "<Figure size 640x480 with 1 Axes>"
            ],
            "image/png": "[encoded data removed]"
          },
          "metadata": {}
        },
        {
          "output_type": "display_data",
          "data": {
            "text/plain": [
              "<Figure size 640x480 with 1 Axes>"
            ],
            "image/png": "[encoded data removed]"
          },
          "metadata": {}
        }
      ]
    },
    {
      "cell_type": "code",
      "source": [
        "test_model = keras.models.load_model(\"convnet_from_scratch1.x\")\n",
        "test_loss, test_acc = test_model.evaluate(test_dataset)\n",
        "print(f\"Test accuracy: {test_acc:.3f}\")"
      ],
      "metadata": {
        "colab": {
          "base_uri": "https://localhost:8080/"
        },
        "id": "xZWwW-fdVg_R",
        "outputId": "01976100-604b-45f8-c381-d1e1aec5add8"
      },
      "execution_count": 14,
      "outputs": [
        {
          "output_type": "stream",
          "name": "stdout",
          "text": [
            "32/32 [==============================] - 20s 627ms/step - loss: 0.5584 - accuracy: 0.7330\n",
            "Test accuracy: 0.733\n"
          ]
        }
      ]
    },
    {
      "cell_type": "code",
      "source": [
        "data_augmentation = keras.Sequential(\n",
        "    [\n",
        "        layers.RandomFlip(\"horizontal\"),\n",
        "        layers.RandomRotation(0.1),\n",
        "        layers.RandomZoom(0.2),\n",
        "    ]\n",
        ")"
      ],
      "metadata": {
        "id": "iHzZYsjeVsd7"
      },
      "execution_count": 15,
      "outputs": []
    },
    {
      "cell_type": "code",
      "source": [
        "inputs = keras.Input(shape=(180, 180, 3))\n",
        "x = data_augmentation(inputs)\n",
        "x = layers.Rescaling(1./255)(x)\n",
        "x = layers.Conv2D(filters=32, kernel_size=3, activation=\"relu\")(x)\n",
        "x = layers.MaxPooling2D(pool_size=2)(x)\n",
        "x = layers.Conv2D(filters=64, kernel_size=3, activation=\"relu\")(x)\n",
        "x = layers.MaxPooling2D(pool_size=2)(x)\n",
        "x = layers.Conv2D(filters=128, kernel_size=3, activation=\"relu\")(x)\n",
        "x = layers.MaxPooling2D(pool_size=2)(x)\n",
        "x = layers.Conv2D(filters=256, kernel_size=3, activation=\"relu\")(x)\n",
        "x = layers.MaxPooling2D(pool_size=2)(x)\n",
        "x = layers.Conv2D(filters=256, kernel_size=3, activation=\"relu\")(x)\n",
        "x = layers.Flatten()(x)\n",
        "x = layers.Dropout(0.5)(x)\n",
        "outputs = layers.Dense(1, activation=\"sigmoid\")(x)\n",
        "model = keras.Model(inputs=inputs, outputs=outputs)\n",
        "\n",
        "model.compile(loss=\"binary_crossentropy\",\n",
        "              optimizer=\"rmsprop\",\n",
        "              metrics=[\"accuracy\"])"
      ],
      "metadata": {
        "id": "fJzEaWoMVx2e"
      },
      "execution_count": 16,
      "outputs": []
    },
    {
      "cell_type": "code",
      "source": [
        "callbacks = [\n",
        "    keras.callbacks.ModelCheckpoint(\n",
        "        filepath=\"convnet_from_scratch_with_augmentation1.x\",\n",
        "        save_best_only=True,\n",
        "        monitor=\"val_loss\")\n",
        "]\n",
        "history = model.fit(\n",
        "    train_dataset,\n",
        "    epochs=10,\n",
        "    validation_data=validation_dataset,\n",
        "    callbacks=callbacks)"
      ],
      "metadata": {
        "colab": {
          "base_uri": "https://localhost:8080/"
        },
        "id": "G5deq0-tV4Kp",
        "outputId": "86110382-6130-4881-e80e-88d0f38fa698"
      },
      "execution_count": 17,
      "outputs": [
        {
          "output_type": "stream",
          "name": "stdout",
          "text": [
            "Epoch 1/10\n",
            "63/63 [==============================] - 185s 3s/step - loss: 0.7005 - accuracy: 0.5190 - val_loss: 0.6927 - val_accuracy: 0.5000\n",
            "Epoch 2/10\n",
            "63/63 [==============================] - 195s 3s/step - loss: 0.6929 - accuracy: 0.5265 - val_loss: 0.7032 - val_accuracy: 0.5000\n",
            "Epoch 3/10\n",
            "63/63 [==============================] - 197s 3s/step - loss: 0.6936 - accuracy: 0.5450 - val_loss: 0.6878 - val_accuracy: 0.5050\n",
            "Epoch 4/10\n",
            "63/63 [==============================] - 178s 3s/step - loss: 0.6956 - accuracy: 0.5430 - val_loss: 0.6946 - val_accuracy: 0.5090\n",
            "Epoch 5/10\n",
            "63/63 [==============================] - 194s 3s/step - loss: 0.6737 - accuracy: 0.5985 - val_loss: 0.6526 - val_accuracy: 0.6460\n",
            "Epoch 6/10\n",
            "63/63 [==============================] - 171s 3s/step - loss: 0.6689 - accuracy: 0.6015 - val_loss: 0.6510 - val_accuracy: 0.6020\n",
            "Epoch 7/10\n",
            "63/63 [==============================] - 175s 3s/step - loss: 0.6366 - accuracy: 0.6470 - val_loss: 1.1360 - val_accuracy: 0.5010\n",
            "Epoch 8/10\n",
            "63/63 [==============================] - 171s 3s/step - loss: 0.6149 - accuracy: 0.6650 - val_loss: 1.1188 - val_accuracy: 0.5110\n",
            "Epoch 9/10\n",
            "63/63 [==============================] - 172s 3s/step - loss: 0.6079 - accuracy: 0.6565 - val_loss: 0.5953 - val_accuracy: 0.6600\n",
            "Epoch 10/10\n",
            "63/63 [==============================] - 169s 3s/step - loss: 0.5946 - accuracy: 0.6825 - val_loss: 0.6078 - val_accuracy: 0.6580\n"
          ]
        }
      ]
    },
    {
      "cell_type": "code",
      "source": [
        "test_model = keras.models.load_model(\n",
        "    \"convnet_from_scratch_with_augmentation1.x\")\n",
        "test_loss, test_acc = test_model.evaluate(test_dataset)\n",
        "print(f\"Test accuracy: {test_acc:.3f}\")"
      ],
      "metadata": {
        "colab": {
          "base_uri": "https://localhost:8080/"
        },
        "id": "9SyCjaF8do6v",
        "outputId": "56e0a5e8-e042-4c2f-944d-bef6a02f1db2"
      },
      "execution_count": 18,
      "outputs": [
        {
          "output_type": "stream",
          "name": "stdout",
          "text": [
            "32/32 [==============================] - 19s 579ms/step - loss: 0.6203 - accuracy: 0.6740\n",
            "Test accuracy: 0.674\n"
          ]
        }
      ]
    },
    {
      "cell_type": "code",
      "source": [
        "import os, shutil, pathlib\n",
        "\n",
        "original_dir = pathlib.Path(\"train\")\n",
        "new_base_dir = pathlib.Path(\"cats_vs_dogs_small_2\")\n",
        "\n",
        "def make_subset(subset_name, start_index, end_index):\n",
        "    for category in (\"cat\", \"dog\"):\n",
        "        dir = new_base_dir / subset_name / category\n",
        "        os.makedirs(dir, exist_ok=True)\n",
        "        fnames = [f\"{category}.{i}.jpg\" for i in range(start_index, end_index)]\n",
        "        for fname in fnames:\n",
        "            shutil.copyfile(src=original_dir / fname,\n",
        "                            dst=dir / fname)\n",
        "\n",
        "make_subset(\"train\", start_index=0, end_index=1500)\n",
        "make_subset(\"validation\", start_index=1500, end_index=2000)\n",
        "make_subset(\"test\", start_index=2000, end_index=2500)"
      ],
      "metadata": {
        "id": "YKtcPonkd0Py"
      },
      "execution_count": 19,
      "outputs": []
    },
    {
      "cell_type": "code",
      "source": [
        "from tensorflow.keras.utils import image_dataset_from_directory\n",
        "\n",
        "train_dataset = image_dataset_from_directory(\n",
        "    new_base_dir / \"train\",\n",
        "    image_size=(180, 180),\n",
        "    batch_size=32)\n",
        "validation_dataset = image_dataset_from_directory(\n",
        "    new_base_dir / \"validation\",\n",
        "    image_size=(180, 180),\n",
        "    batch_size=32)\n",
        "test_dataset = image_dataset_from_directory(\n",
        "    new_base_dir / \"test\",\n",
        "    image_size=(180, 180),\n",
        "    batch_size=32)"
      ],
      "metadata": {
        "colab": {
          "base_uri": "https://localhost:8080/"
        },
        "id": "JMt0oHh7d4yK",
        "outputId": "6e291ae0-a2b3-4e48-995b-90f9136936a3"
      },
      "execution_count": 20,
      "outputs": [
        {
          "output_type": "stream",
          "name": "stdout",
          "text": [
            "Found 3000 files belonging to 2 classes.\n",
            "Found 1000 files belonging to 2 classes.\n",
            "Found 1000 files belonging to 2 classes.\n"
          ]
        }
      ]
    },
    {
      "cell_type": "code",
      "source": [
        "inputs = keras.Input(shape=(180, 180, 3))\n",
        "x = layers.Rescaling(1./255)(inputs)\n",
        "x = layers.Conv2D(filters=32, kernel_size=3, activation=\"relu\")(x)\n",
        "x = layers.MaxPooling2D(pool_size=2)(x)\n",
        "x = layers.Conv2D(filters=64, kernel_size=3, activation=\"relu\")(x)\n",
        "x = layers.MaxPooling2D(pool_size=2)(x)\n",
        "x = layers.Conv2D(filters=128, kernel_size=3, activation=\"relu\")(x)\n",
        "x = layers.MaxPooling2D(pool_size=2)(x)\n",
        "x = layers.Conv2D(filters=256, kernel_size=3, activation=\"relu\")(x)\n",
        "x = layers.MaxPooling2D(pool_size=2)(x)\n",
        "x = layers.Conv2D(filters=256, kernel_size=3, activation=\"relu\")(x)\n",
        "x = layers.Flatten()(x)\n",
        "outputs = layers.Dense(1, activation=\"sigmoid\")(x)\n",
        "model = keras.Model(inputs=inputs, outputs=outputs)\n",
        "\n",
        "model.compile(loss=\"binary_crossentropy\",\n",
        "              optimizer=\"rmsprop\",\n",
        "              metrics=[\"accuracy\"])"
      ],
      "metadata": {
        "id": "6OFrPudvd9o2"
      },
      "execution_count": 21,
      "outputs": []
    },
    {
      "cell_type": "code",
      "source": [
        "callbacks = [\n",
        "    keras.callbacks.ModelCheckpoint(\n",
        "        filepath=\"convnet_from_scratch2.x\",\n",
        "        save_best_only=True,\n",
        "        monitor=\"val_loss\")\n",
        "]\n",
        "history = model.fit(\n",
        "    train_dataset,\n",
        "    epochs=10,\n",
        "    validation_data=validation_dataset,\n",
        "    callbacks=callbacks)"
      ],
      "metadata": {
        "colab": {
          "base_uri": "https://localhost:8080/"
        },
        "id": "GVWzLDyIeCVn",
        "outputId": "2833a708-d29b-46ea-b778-f4f2fa19dbfa"
      },
      "execution_count": 22,
      "outputs": [
        {
          "output_type": "stream",
          "name": "stdout",
          "text": [
            "Epoch 1/10\n",
            "94/94 [==============================] - 229s 2s/step - loss: 0.6978 - accuracy: 0.5293 - val_loss: 0.6835 - val_accuracy: 0.5450\n",
            "Epoch 2/10\n",
            "94/94 [==============================] - 225s 2s/step - loss: 0.6782 - accuracy: 0.5913 - val_loss: 0.6605 - val_accuracy: 0.6280\n",
            "Epoch 3/10\n",
            "94/94 [==============================] - 225s 2s/step - loss: 0.6375 - accuracy: 0.6577 - val_loss: 0.6477 - val_accuracy: 0.6400\n",
            "Epoch 4/10\n",
            "94/94 [==============================] - 249s 3s/step - loss: 0.6086 - accuracy: 0.6680 - val_loss: 0.6404 - val_accuracy: 0.6220\n",
            "Epoch 5/10\n",
            "94/94 [==============================] - 224s 2s/step - loss: 0.5624 - accuracy: 0.7040 - val_loss: 0.7732 - val_accuracy: 0.5960\n",
            "Epoch 6/10\n",
            "94/94 [==============================] - 225s 2s/step - loss: 0.5234 - accuracy: 0.7410 - val_loss: 0.5908 - val_accuracy: 0.6910\n",
            "Epoch 7/10\n",
            "94/94 [==============================] - 223s 2s/step - loss: 0.4714 - accuracy: 0.7777 - val_loss: 0.5460 - val_accuracy: 0.7240\n",
            "Epoch 8/10\n",
            "94/94 [==============================] - 226s 2s/step - loss: 0.4135 - accuracy: 0.8093 - val_loss: 0.6275 - val_accuracy: 0.7230\n",
            "Epoch 9/10\n",
            "94/94 [==============================] - 245s 3s/step - loss: 0.3662 - accuracy: 0.8390 - val_loss: 0.5625 - val_accuracy: 0.7350\n",
            "Epoch 10/10\n",
            "94/94 [==============================] - 224s 2s/step - loss: 0.3049 - accuracy: 0.8720 - val_loss: 0.6284 - val_accuracy: 0.7160\n"
          ]
        }
      ]
    },
    {
      "cell_type": "code",
      "source": [
        "test_model = keras.models.load_model(\n",
        "    \"convnet_from_scratch2.x\")\n",
        "test_loss, test_acc = test_model.evaluate(test_dataset)\n",
        "print(f\"Test accuracy: {test_acc:.3f}\")"
      ],
      "metadata": {
        "colab": {
          "base_uri": "https://localhost:8080/"
        },
        "id": "5dCiY0_bn2ij",
        "outputId": "5a2f1726-5591-46b5-f5c8-b8ef3bcdb6c8"
      },
      "execution_count": 23,
      "outputs": [
        {
          "output_type": "stream",
          "name": "stdout",
          "text": [
            "32/32 [==============================] - 19s 583ms/step - loss: 0.5138 - accuracy: 0.7490\n",
            "Test accuracy: 0.749\n"
          ]
        }
      ]
    },
    {
      "cell_type": "code",
      "source": [
        "data_augmentation = keras.Sequential(\n",
        "    [\n",
        "        layers.RandomFlip(\"horizontal\"),\n",
        "        layers.RandomRotation(0.1),\n",
        "        layers.RandomZoom(0.2),\n",
        "    ]\n",
        ")"
      ],
      "metadata": {
        "id": "al5Fu6s2oEeG"
      },
      "execution_count": 24,
      "outputs": []
    },
    {
      "cell_type": "code",
      "source": [
        "inputs = keras.Input(shape=(180, 180, 3))\n",
        "x = data_augmentation(inputs)\n",
        "x = layers.Rescaling(1./255)(x)\n",
        "x = layers.Conv2D(filters=32, kernel_size=3, activation=\"relu\")(x)\n",
        "x = layers.MaxPooling2D(pool_size=2)(x)\n",
        "x = layers.Conv2D(filters=64, kernel_size=3, activation=\"relu\")(x)\n",
        "x = layers.MaxPooling2D(pool_size=2)(x)\n",
        "x = layers.Conv2D(filters=128, kernel_size=3, activation=\"relu\")(x)\n",
        "x = layers.MaxPooling2D(pool_size=2)(x)\n",
        "x = layers.Conv2D(filters=256, kernel_size=3, activation=\"relu\")(x)\n",
        "x = layers.MaxPooling2D(pool_size=2)(x)\n",
        "x = layers.Conv2D(filters=256, kernel_size=3, activation=\"relu\")(x)\n",
        "x = layers.Flatten()(x)\n",
        "x = layers.Dropout(0.5)(x)\n",
        "outputs = layers.Dense(1, activation=\"sigmoid\")(x)\n",
        "model = keras.Model(inputs=inputs, outputs=outputs)\n",
        "\n",
        "model.compile(loss=\"binary_crossentropy\",\n",
        "              optimizer=\"adam\",\n",
        "              metrics=[\"accuracy\"])"
      ],
      "metadata": {
        "id": "43SYxJ7soIuv"
      },
      "execution_count": 25,
      "outputs": []
    },
    {
      "cell_type": "code",
      "source": [
        "callbacks = [\n",
        "    keras.callbacks.ModelCheckpoint(\n",
        "        filepath=\"convnet_from_scratch_with_augmentation2.x\",\n",
        "        save_best_only=True,\n",
        "        monitor=\"val_loss\")\n",
        "]\n",
        "history = model.fit(\n",
        "    train_dataset,\n",
        "    epochs=10,\n",
        "    validation_data=validation_dataset,\n",
        "    callbacks=callbacks)\n"
      ],
      "metadata": {
        "colab": {
          "base_uri": "https://localhost:8080/"
        },
        "id": "boYKiucIoP89",
        "outputId": "f29e5104-d155-4a02-8fae-ee4b6f754124"
      },
      "execution_count": 26,
      "outputs": [
        {
          "output_type": "stream",
          "name": "stdout",
          "text": [
            "Epoch 1/10\n",
            "94/94 [==============================] - 249s 3s/step - loss: 0.6924 - accuracy: 0.5263 - val_loss: 0.7081 - val_accuracy: 0.5400\n",
            "Epoch 2/10\n",
            "94/94 [==============================] - 262s 3s/step - loss: 0.6800 - accuracy: 0.5670 - val_loss: 0.6654 - val_accuracy: 0.6150\n",
            "Epoch 3/10\n",
            "94/94 [==============================] - 239s 3s/step - loss: 0.6567 - accuracy: 0.6160 - val_loss: 0.6599 - val_accuracy: 0.6280\n",
            "Epoch 4/10\n",
            "94/94 [==============================] - 241s 3s/step - loss: 0.6521 - accuracy: 0.6243 - val_loss: 0.6278 - val_accuracy: 0.6620\n",
            "Epoch 5/10\n",
            "94/94 [==============================] - 238s 3s/step - loss: 0.6334 - accuracy: 0.6547 - val_loss: 0.6521 - val_accuracy: 0.6100\n",
            "Epoch 6/10\n",
            "94/94 [==============================] - 240s 3s/step - loss: 0.6209 - accuracy: 0.6590 - val_loss: 0.6373 - val_accuracy: 0.6230\n",
            "Epoch 7/10\n",
            "94/94 [==============================] - 246s 3s/step - loss: 0.5840 - accuracy: 0.6870 - val_loss: 0.5703 - val_accuracy: 0.6920\n",
            "Epoch 8/10\n",
            "94/94 [==============================] - 242s 3s/step - loss: 0.5841 - accuracy: 0.6830 - val_loss: 0.6220 - val_accuracy: 0.6550\n",
            "Epoch 9/10\n",
            "94/94 [==============================] - 244s 3s/step - loss: 0.5527 - accuracy: 0.7227 - val_loss: 0.5654 - val_accuracy: 0.7050\n",
            "Epoch 10/10\n",
            "94/94 [==============================] - 242s 3s/step - loss: 0.5464 - accuracy: 0.7197 - val_loss: 0.5550 - val_accuracy: 0.7200\n"
          ]
        }
      ]
    },
    {
      "cell_type": "code",
      "source": [
        "test_model = keras.models.load_model(\n",
        "    \"convnet_from_scratch_with_augmentation2.x\")\n",
        "test_loss, test_acc = test_model.evaluate(test_dataset)\n",
        "print(f\"Test accuracy: {test_acc:.3f}\")"
      ],
      "metadata": {
        "colab": {
          "base_uri": "https://localhost:8080/"
        },
        "id": "cC6v10IJ0ehA",
        "outputId": "985fce8a-6924-4ec6-8313-2bda4834c3c4"
      },
      "execution_count": 27,
      "outputs": [
        {
          "output_type": "stream",
          "name": "stdout",
          "text": [
            "32/32 [==============================] - 20s 620ms/step - loss: 0.5373 - accuracy: 0.7340\n",
            "Test accuracy: 0.734\n"
          ]
        }
      ]
    },
    {
      "cell_type": "code",
      "source": [
        "import os, shutil, pathlib\n",
        "\n",
        "original_dir = pathlib.Path(\"train\")\n",
        "new_base_dir = pathlib.Path(\"cats_vs_dogs_small_3\")\n",
        "\n",
        "def make_subset(subset_name, start_index, end_index):\n",
        "    for category in (\"cat\", \"dog\"):\n",
        "        dir = new_base_dir / subset_name / category\n",
        "        os.makedirs(dir, exist_ok=True)\n",
        "        fnames = [f\"{category}.{i}.jpg\" for i in range(start_index, end_index)]\n",
        "        for fname in fnames:\n",
        "            shutil.copyfile(src=original_dir / fname,\n",
        "                            dst=dir / fname)\n",
        "\n",
        "make_subset(\"train\", start_index=0, end_index=1500)\n",
        "make_subset(\"validation\", start_index=1500, end_index=2500)\n",
        "make_subset(\"test\", start_index=2500, end_index=3000)\n",
        ""
      ],
      "metadata": {
        "id": "h9wiuUl-0zyI"
      },
      "execution_count": 28,
      "outputs": []
    },
    {
      "cell_type": "code",
      "source": [
        "from tensorflow.keras.utils import image_dataset_from_directory\n",
        "\n",
        "train_dataset = image_dataset_from_directory(\n",
        "    new_base_dir / \"train\",\n",
        "    image_size=(180, 180),\n",
        "    batch_size=32)\n",
        "validation_dataset = image_dataset_from_directory(\n",
        "    new_base_dir / \"validation\",\n",
        "    image_size=(180, 180),\n",
        "    batch_size=32)\n",
        "test_dataset = image_dataset_from_directory(\n",
        "    new_base_dir / \"test\",\n",
        "    image_size=(180, 180),\n",
        "    batch_size=32)"
      ],
      "metadata": {
        "colab": {
          "base_uri": "https://localhost:8080/"
        },
        "id": "25L8n_6-04XY",
        "outputId": "b1701359-224a-40b0-db14-e95d9c3c1100"
      },
      "execution_count": 29,
      "outputs": [
        {
          "output_type": "stream",
          "name": "stdout",
          "text": [
            "Found 3000 files belonging to 2 classes.\n",
            "Found 2000 files belonging to 2 classes.\n",
            "Found 1000 files belonging to 2 classes.\n"
          ]
        }
      ]
    },
    {
      "cell_type": "code",
      "source": [
        "inputs = keras.Input(shape=(180, 180, 3))\n",
        "x = layers.Rescaling(1./255)(inputs)\n",
        "x = layers.Conv2D(filters=32, kernel_size=3, activation=\"relu\")(x)\n",
        "x = layers.MaxPooling2D(pool_size=2)(x)\n",
        "x = layers.Conv2D(filters=64, kernel_size=3, activation=\"relu\")(x)\n",
        "x = layers.MaxPooling2D(pool_size=2)(x)\n",
        "x = layers.Conv2D(filters=128, kernel_size=3, activation=\"relu\")(x)\n",
        "x = layers.MaxPooling2D(pool_size=2)(x)\n",
        "x = layers.Conv2D(filters=256, kernel_size=3, activation=\"relu\")(x)\n",
        "x = layers.MaxPooling2D(pool_size=2)(x)\n",
        "x = layers.Conv2D(filters=256, kernel_size=3, activation=\"relu\")(x)\n",
        "x = layers.Flatten()(x)\n",
        "outputs = layers.Dense(1, activation=\"sigmoid\")(x)\n",
        "model = keras.Model(inputs=inputs, outputs=outputs)\n",
        "\n",
        "model.compile(loss=\"binary_crossentropy\",\n",
        "              optimizer=\"rmsprop\",\n",
        "              metrics=[\"accuracy\"])\n"
      ],
      "metadata": {
        "id": "xfJak7-l08rL"
      },
      "execution_count": 30,
      "outputs": []
    },
    {
      "cell_type": "code",
      "source": [
        "callbacks = [\n",
        "    keras.callbacks.ModelCheckpoint(\n",
        "        filepath=\"convnet_from_scratch3.x\",\n",
        "        save_best_only=True,\n",
        "        monitor=\"val_loss\")\n",
        "]\n",
        "history = model.fit(\n",
        "    train_dataset,\n",
        "    epochs=10,\n",
        "    validation_data=validation_dataset,\n",
        "    callbacks=callbacks)"
      ],
      "metadata": {
        "colab": {
          "base_uri": "https://localhost:8080/"
        },
        "id": "VFXRcz1V1A7V",
        "outputId": "cd946303-b610-4e8e-ff77-9774d47b1faa"
      },
      "execution_count": 31,
      "outputs": [
        {
          "output_type": "stream",
          "name": "stdout",
          "text": [
            "Epoch 1/10\n",
            "94/94 [==============================] - 249s 3s/step - loss: 0.6994 - accuracy: 0.5160 - val_loss: 0.6895 - val_accuracy: 0.5220\n",
            "Epoch 2/10\n",
            "94/94 [==============================] - 244s 3s/step - loss: 0.6874 - accuracy: 0.5627 - val_loss: 0.7314 - val_accuracy: 0.5005\n",
            "Epoch 3/10\n",
            "94/94 [==============================] - 246s 3s/step - loss: 0.6567 - accuracy: 0.6133 - val_loss: 0.6334 - val_accuracy: 0.6595\n",
            "Epoch 4/10\n",
            "94/94 [==============================] - 246s 3s/step - loss: 0.6124 - accuracy: 0.6650 - val_loss: 0.6216 - val_accuracy: 0.6475\n",
            "Epoch 5/10\n",
            "94/94 [==============================] - 245s 3s/step - loss: 0.5933 - accuracy: 0.6907 - val_loss: 0.5856 - val_accuracy: 0.7010\n",
            "Epoch 6/10\n",
            "94/94 [==============================] - 244s 3s/step - loss: 0.5427 - accuracy: 0.7253 - val_loss: 0.6702 - val_accuracy: 0.6860\n",
            "Epoch 7/10\n",
            "94/94 [==============================] - 244s 3s/step - loss: 0.5017 - accuracy: 0.7550 - val_loss: 0.6098 - val_accuracy: 0.7130\n",
            "Epoch 8/10\n",
            "94/94 [==============================] - 242s 3s/step - loss: 0.4589 - accuracy: 0.7877 - val_loss: 0.6190 - val_accuracy: 0.7145\n",
            "Epoch 9/10\n",
            "94/94 [==============================] - 246s 3s/step - loss: 0.4087 - accuracy: 0.8193 - val_loss: 0.6753 - val_accuracy: 0.6815\n",
            "Epoch 10/10\n",
            "94/94 [==============================] - 245s 3s/step - loss: 0.3539 - accuracy: 0.8377 - val_loss: 0.6167 - val_accuracy: 0.7460\n"
          ]
        }
      ]
    },
    {
      "cell_type": "code",
      "source": [
        "test_model = keras.models.load_model(\n",
        "    \"convnet_from_scratch3.x\")\n",
        "test_loss, test_acc = test_model.evaluate(test_dataset)\n",
        "print(f\"Test accuracy: {test_acc:.3f}\")"
      ],
      "metadata": {
        "colab": {
          "base_uri": "https://localhost:8080/"
        },
        "id": "MOzGrH6P_KM7",
        "outputId": "24d00632-91b9-4605-c793-6c81356a1c8a"
      },
      "execution_count": 32,
      "outputs": [
        {
          "output_type": "stream",
          "name": "stdout",
          "text": [
            "32/32 [==============================] - 20s 598ms/step - loss: 0.6104 - accuracy: 0.6740\n",
            "Test accuracy: 0.674\n"
          ]
        }
      ]
    },
    {
      "cell_type": "code",
      "source": [
        "data_augmentation = keras.Sequential(\n",
        "    [\n",
        "        layers.RandomFlip(\"horizontal\"),\n",
        "        layers.RandomRotation(0.1),\n",
        "        layers.RandomZoom(0.2),\n",
        "    ]\n",
        ")"
      ],
      "metadata": {
        "id": "K3BOwPRM_R3k"
      },
      "execution_count": 33,
      "outputs": []
    },
    {
      "cell_type": "code",
      "source": [
        "inputs = keras.Input(shape=(180, 180, 3))\n",
        "x = data_augmentation(inputs)\n",
        "x = layers.Rescaling(1./255)(x)\n",
        "x = layers.Conv2D(filters=32, kernel_size=3, activation=\"relu\")(x)\n",
        "x = layers.MaxPooling2D(pool_size=2)(x)\n",
        "x = layers.Conv2D(filters=64, kernel_size=3, activation=\"relu\")(x)\n",
        "x = layers.MaxPooling2D(pool_size=2)(x)\n",
        "x = layers.Conv2D(filters=128, kernel_size=3, activation=\"relu\")(x)\n",
        "x = layers.MaxPooling2D(pool_size=2)(x)\n",
        "x = layers.Conv2D(filters=256, kernel_size=3, activation=\"relu\")(x)\n",
        "x = layers.MaxPooling2D(pool_size=2)(x)\n",
        "x = layers.Conv2D(filters=256, kernel_size=3, activation=\"relu\")(x)\n",
        "x = layers.Flatten()(x)\n",
        "x = layers.Dropout(0.5)(x)\n",
        "outputs = layers.Dense(1, activation=\"sigmoid\")(x)\n",
        "model = keras.Model(inputs=inputs, outputs=outputs)\n",
        "\n",
        "model.compile(loss=\"binary_crossentropy\",\n",
        "              optimizer=\"adam\",\n",
        "              metrics=[\"accuracy\"])"
      ],
      "metadata": {
        "id": "GCFOFgNy_XIk"
      },
      "execution_count": 34,
      "outputs": []
    },
    {
      "cell_type": "code",
      "source": [
        "callbacks = [\n",
        "    keras.callbacks.ModelCheckpoint(\n",
        "        filepath=\"convnet_from_scratch_with_augmentation3.x\",\n",
        "        save_best_only=True,\n",
        "        monitor=\"val_loss\")\n",
        "]\n",
        "history = model.fit(\n",
        "    train_dataset,\n",
        "    epochs=10,\n",
        "    validation_data=validation_dataset,\n",
        "    callbacks=callbacks)"
      ],
      "metadata": {
        "colab": {
          "base_uri": "https://localhost:8080/"
        },
        "id": "B3Mzn0B8_b3L",
        "outputId": "b6b77840-3bd7-49a2-97c3-3fa76b0d0048"
      },
      "execution_count": 35,
      "outputs": [
        {
          "output_type": "stream",
          "name": "stdout",
          "text": [
            "Epoch 1/10\n",
            "94/94 [==============================] - 312s 3s/step - loss: 0.6944 - accuracy: 0.5037 - val_loss: 0.6940 - val_accuracy: 0.5000\n",
            "Epoch 2/10\n",
            "94/94 [==============================] - 264s 3s/step - loss: 0.6936 - accuracy: 0.5080 - val_loss: 0.6939 - val_accuracy: 0.5005\n",
            "Epoch 3/10\n",
            "94/94 [==============================] - 267s 3s/step - loss: 0.6888 - accuracy: 0.5160 - val_loss: 0.6921 - val_accuracy: 0.5960\n",
            "Epoch 4/10\n",
            "94/94 [==============================] - 262s 3s/step - loss: 0.6806 - accuracy: 0.5470 - val_loss: 0.6942 - val_accuracy: 0.5465\n",
            "Epoch 5/10\n",
            "94/94 [==============================] - 262s 3s/step - loss: 0.6643 - accuracy: 0.6027 - val_loss: 0.6617 - val_accuracy: 0.5900\n",
            "Epoch 6/10\n",
            "94/94 [==============================] - 263s 3s/step - loss: 0.6530 - accuracy: 0.6147 - val_loss: 0.6355 - val_accuracy: 0.6610\n",
            "Epoch 7/10\n",
            "94/94 [==============================] - 262s 3s/step - loss: 0.6250 - accuracy: 0.6690 - val_loss: 0.6479 - val_accuracy: 0.6190\n",
            "Epoch 8/10\n",
            "94/94 [==============================] - 263s 3s/step - loss: 0.6274 - accuracy: 0.6567 - val_loss: 0.6278 - val_accuracy: 0.6550\n",
            "Epoch 9/10\n",
            "94/94 [==============================] - 264s 3s/step - loss: 0.6185 - accuracy: 0.6600 - val_loss: 0.6249 - val_accuracy: 0.6575\n",
            "Epoch 10/10\n",
            "94/94 [==============================] - 265s 3s/step - loss: 0.6062 - accuracy: 0.6713 - val_loss: 0.5829 - val_accuracy: 0.6925\n"
          ]
        }
      ]
    },
    {
      "cell_type": "code",
      "source": [
        "test_model = keras.models.load_model(\n",
        "    \"convnet_from_scratch_with_augmentation3.x\")\n",
        "test_loss, test_acc = test_model.evaluate(test_dataset)\n",
        "print(f\"Test accuracy: {test_acc:.3f}\")"
      ],
      "metadata": {
        "colab": {
          "base_uri": "https://localhost:8080/"
        },
        "id": "-toTz0BnKvJ1",
        "outputId": "d9b7f06f-c67d-4f94-8aa7-835f505c14a3"
      },
      "execution_count": 36,
      "outputs": [
        {
          "output_type": "stream",
          "name": "stdout",
          "text": [
            "32/32 [==============================] - 22s 643ms/step - loss: 0.6131 - accuracy: 0.6760\n",
            "Test accuracy: 0.676\n"
          ]
        }
      ]
    },
    {
      "cell_type": "code",
      "source": [
        "conv_base = keras.applications.vgg16.VGG16(\n",
        "    weights=\"imagenet\",\n",
        "    include_top=False,\n",
        "    input_shape=(180, 180, 3))\n",
        "conv_base.summary()"
      ],
      "metadata": {
        "colab": {
          "base_uri": "https://localhost:8080/"
        },
        "id": "R55VGmy0K8Ci",
        "outputId": "13c69a99-5a90-484f-c4f0-fd13a7ca9ae0"
      },
      "execution_count": 37,
      "outputs": [
        {
          "output_type": "stream",
          "name": "stdout",
          "text": [
            "Downloading data from https://storage.googleapis.com/tensorflow/keras-applications/vgg16/vgg16_weights_tf_dim_ordering_tf_kernels_notop.h5\n",
            "58889256/58889256 [==============================] - 3s 0us/step\n",
            "Model: \"vgg16\"\n",
            "_________________________________________________________________\n",
            " Layer (type)                Output Shape              Param #   \n",
            "=================================================================\n",
            " input_7 (InputLayer)        [(None, 180, 180, 3)]     0         \n",
            "                                                                 \n",
            " block1_conv1 (Conv2D)       (None, 180, 180, 64)      1792      \n",
            "                                                                 \n",
            " block1_conv2 (Conv2D)       (None, 180, 180, 64)      36928     \n",
            "                                                                 \n",
            " block1_pool (MaxPooling2D)  (None, 90, 90, 64)        0         \n",
            "                                                                 \n",
            " block2_conv1 (Conv2D)       (None, 90, 90, 128)       73856     \n",
            "                                                                 \n",
            " block2_conv2 (Conv2D)       (None, 90, 90, 128)       147584    \n",
            "                                                                 \n",
            " block2_pool (MaxPooling2D)  (None, 45, 45, 128)       0         \n",
            "                                                                 \n",
            " block3_conv1 (Conv2D)       (None, 45, 45, 256)       295168    \n",
            "                                                                 \n",
            " block3_conv2 (Conv2D)       (None, 45, 45, 256)       590080    \n",
            "                                                                 \n",
            " block3_conv3 (Conv2D)       (None, 45, 45, 256)       590080    \n",
            "                                                                 \n",
            " block3_pool (MaxPooling2D)  (None, 22, 22, 256)       0         \n",
            "                                                                 \n",
            " block4_conv1 (Conv2D)       (None, 22, 22, 512)       1180160   \n",
            "                                                                 \n",
            " block4_conv2 (Conv2D)       (None, 22, 22, 512)       2359808   \n",
            "                                                                 \n",
            " block4_conv3 (Conv2D)       (None, 22, 22, 512)       2359808   \n",
            "                                                                 \n",
            " block4_pool (MaxPooling2D)  (None, 11, 11, 512)       0         \n",
            "                                                                 \n",
            " block5_conv1 (Conv2D)       (None, 11, 11, 512)       2359808   \n",
            "                                                                 \n",
            " block5_conv2 (Conv2D)       (None, 11, 11, 512)       2359808   \n",
            "                                                                 \n",
            " block5_conv3 (Conv2D)       (None, 11, 11, 512)       2359808   \n",
            "                                                                 \n",
            " block5_pool (MaxPooling2D)  (None, 5, 5, 512)         0         \n",
            "                                                                 \n",
            "=================================================================\n",
            "Total params: 14714688 (56.13 MB)\n",
            "Trainable params: 14714688 (56.13 MB)\n",
            "Non-trainable params: 0 (0.00 Byte)\n",
            "_________________________________________________________________\n"
          ]
        }
      ]
    },
    {
      "cell_type": "code",
      "source": [
        "import numpy as np\n",
        "\n",
        "def get_features_and_labels(dataset):\n",
        "    all_features = []\n",
        "    all_labels = []\n",
        "    for images, labels in dataset:\n",
        "        preprocessed_images = keras.applications.vgg16.preprocess_input(images)\n",
        "        features = conv_base.predict(preprocessed_images)\n",
        "        all_features.append(features)\n",
        "        all_labels.append(labels)\n",
        "    return np.concatenate(all_features), np.concatenate(all_labels)\n",
        "\n",
        "train_features, train_labels =  get_features_and_labels(train_dataset)\n",
        "val_features, val_labels =  get_features_and_labels(validation_dataset)\n",
        "test_features, test_labels =  get_features_and_labels(test_dataset)\n",
        "\n",
        "train_features.shape"
      ],
      "metadata": {
        "colab": {
          "base_uri": "https://localhost:8080/"
        },
        "id": "FYsvM2CLLBaC",
        "outputId": "d5b9c99c-f3ed-4cac-be6a-36be44789e39"
      },
      "execution_count": 38,
      "outputs": [
        {
          "output_type": "stream",
          "name": "stdout",
          "text": [
            "1/1 [==============================] - 10s 10s/step\n",
            "1/1 [==============================] - 11s 11s/step\n",
            "1/1 [==============================] - 11s 11s/step\n",
            "1/1 [==============================] - 11s 11s/step\n",
            "1/1 [==============================] - 13s 13s/step\n",
            "1/1 [==============================] - 11s 11s/step\n",
            "1/1 [==============================] - 11s 11s/step\n",
            "1/1 [==============================] - 11s 11s/step\n",
            "1/1 [==============================] - 10s 10s/step\n",
            "1/1 [==============================] - 11s 11s/step\n",
            "1/1 [==============================] - 11s 11s/step\n",
            "1/1 [==============================] - 11s 11s/step\n",
            "1/1 [==============================] - 11s 11s/step\n",
            "1/1 [==============================] - 12s 12s/step\n",
            "1/1 [==============================] - 10s 10s/step\n",
            "1/1 [==============================] - 11s 11s/step\n",
            "1/1 [==============================] - 11s 11s/step\n",
            "1/1 [==============================] - 11s 11s/step\n",
            "1/1 [==============================] - 11s 11s/step\n",
            "1/1 [==============================] - 9s 9s/step\n",
            "1/1 [==============================] - 11s 11s/step\n",
            "1/1 [==============================] - 11s 11s/step\n",
            "1/1 [==============================] - 11s 11s/step\n",
            "1/1 [==============================] - 11s 11s/step\n",
            "1/1 [==============================] - 10s 10s/step\n",
            "1/1 [==============================] - 11s 11s/step\n",
            "1/1 [==============================] - 11s 11s/step\n",
            "1/1 [==============================] - 12s 12s/step\n",
            "1/1 [==============================] - 11s 11s/step\n",
            "1/1 [==============================] - 10s 10s/step\n",
            "1/1 [==============================] - 11s 11s/step\n",
            "1/1 [==============================] - 11s 11s/step\n",
            "1/1 [==============================] - 11s 11s/step\n",
            "1/1 [==============================] - 12s 12s/step\n",
            "1/1 [==============================] - 10s 10s/step\n",
            "1/1 [==============================] - 11s 11s/step\n",
            "1/1 [==============================] - 11s 11s/step\n",
            "1/1 [==============================] - 11s 11s/step\n",
            "1/1 [==============================] - 11s 11s/step\n",
            "1/1 [==============================] - 10s 10s/step\n",
            "1/1 [==============================] - 11s 11s/step\n",
            "1/1 [==============================] - 11s 11s/step\n",
            "1/1 [==============================] - 11s 11s/step\n",
            "1/1 [==============================] - 11s 11s/step\n",
            "1/1 [==============================] - 9s 9s/step\n",
            "1/1 [==============================] - 11s 11s/step\n",
            "1/1 [==============================] - 11s 11s/step\n",
            "1/1 [==============================] - 11s 11s/step\n",
            "1/1 [==============================] - 11s 11s/step\n",
            "1/1 [==============================] - 10s 10s/step\n",
            "1/1 [==============================] - 11s 11s/step\n",
            "1/1 [==============================] - 11s 11s/step\n",
            "1/1 [==============================] - 13s 13s/step\n",
            "1/1 [==============================] - 11s 11s/step\n",
            "1/1 [==============================] - 11s 11s/step\n",
            "1/1 [==============================] - 10s 10s/step\n",
            "1/1 [==============================] - 11s 11s/step\n",
            "1/1 [==============================] - 11s 11s/step\n",
            "1/1 [==============================] - 11s 11s/step\n",
            "1/1 [==============================] - 11s 11s/step\n",
            "1/1 [==============================] - 10s 10s/step\n",
            "1/1 [==============================] - 11s 11s/step\n",
            "1/1 [==============================] - 11s 11s/step\n",
            "1/1 [==============================] - 11s 11s/step\n",
            "1/1 [==============================] - 10s 10s/step\n",
            "1/1 [==============================] - 10s 10s/step\n",
            "1/1 [==============================] - 11s 11s/step\n",
            "1/1 [==============================] - 11s 11s/step\n",
            "1/1 [==============================] - 11s 11s/step\n",
            "1/1 [==============================] - 11s 11s/step\n",
            "1/1 [==============================] - 10s 10s/step\n",
            "1/1 [==============================] - 12s 12s/step\n",
            "1/1 [==============================] - 11s 11s/step\n",
            "1/1 [==============================] - 11s 11s/step\n",
            "1/1 [==============================] - 11s 11s/step\n",
            "1/1 [==============================] - 11s 11s/step\n",
            "1/1 [==============================] - 10s 10s/step\n",
            "1/1 [==============================] - 10s 10s/step\n",
            "1/1 [==============================] - 11s 11s/step\n",
            "1/1 [==============================] - 11s 11s/step\n",
            "1/1 [==============================] - 11s 11s/step\n",
            "1/1 [==============================] - 10s 10s/step\n",
            "1/1 [==============================] - 11s 11s/step\n",
            "1/1 [==============================] - 11s 11s/step\n",
            "1/1 [==============================] - 11s 11s/step\n",
            "1/1 [==============================] - 10s 10s/step\n",
            "1/1 [==============================] - 10s 10s/step\n",
            "1/1 [==============================] - 11s 11s/step\n",
            "1/1 [==============================] - 11s 11s/step\n",
            "1/1 [==============================] - 11s 11s/step\n",
            "1/1 [==============================] - 12s 12s/step\n",
            "1/1 [==============================] - 11s 11s/step\n",
            "1/1 [==============================] - 11s 11s/step\n",
            "1/1 [==============================] - 7s 7s/step\n",
            "1/1 [==============================] - 11s 11s/step\n",
            "1/1 [==============================] - 11s 11s/step\n",
            "1/1 [==============================] - 9s 9s/step\n",
            "1/1 [==============================] - 11s 11s/step\n",
            "1/1 [==============================] - 11s 11s/step\n",
            "1/1 [==============================] - 11s 11s/step\n",
            "1/1 [==============================] - 11s 11s/step\n",
            "1/1 [==============================] - 9s 9s/step\n",
            "1/1 [==============================] - 11s 11s/step\n",
            "1/1 [==============================] - 11s 11s/step\n",
            "1/1 [==============================] - 11s 11s/step\n",
            "1/1 [==============================] - 12s 12s/step\n",
            "1/1 [==============================] - 10s 10s/step\n",
            "1/1 [==============================] - 10s 10s/step\n",
            "1/1 [==============================] - 11s 11s/step\n",
            "1/1 [==============================] - 11s 11s/step\n",
            "1/1 [==============================] - 11s 11s/step\n",
            "1/1 [==============================] - 10s 10s/step\n",
            "1/1 [==============================] - 9s 9s/step\n",
            "1/1 [==============================] - 11s 11s/step\n",
            "1/1 [==============================] - 11s 11s/step\n",
            "1/1 [==============================] - 11s 11s/step\n",
            "1/1 [==============================] - 11s 11s/step\n",
            "1/1 [==============================] - 9s 9s/step\n",
            "1/1 [==============================] - 11s 11s/step\n",
            "1/1 [==============================] - 11s 11s/step\n",
            "1/1 [==============================] - 11s 11s/step\n",
            "1/1 [==============================] - 11s 11s/step\n",
            "1/1 [==============================] - 9s 9s/step\n",
            "1/1 [==============================] - 11s 11s/step\n",
            "1/1 [==============================] - 11s 11s/step\n",
            "1/1 [==============================] - 12s 12s/step\n",
            "1/1 [==============================] - 11s 11s/step\n",
            "1/1 [==============================] - 10s 10s/step\n",
            "1/1 [==============================] - 10s 10s/step\n",
            "1/1 [==============================] - 11s 11s/step\n",
            "1/1 [==============================] - 11s 11s/step\n",
            "1/1 [==============================] - 11s 11s/step\n",
            "1/1 [==============================] - 10s 10s/step\n",
            "1/1 [==============================] - 10s 10s/step\n",
            "1/1 [==============================] - 11s 11s/step\n",
            "1/1 [==============================] - 11s 11s/step\n",
            "1/1 [==============================] - 11s 11s/step\n",
            "1/1 [==============================] - 10s 10s/step\n",
            "1/1 [==============================] - 10s 10s/step\n",
            "1/1 [==============================] - 11s 11s/step\n",
            "1/1 [==============================] - 11s 11s/step\n",
            "1/1 [==============================] - 10s 10s/step\n",
            "1/1 [==============================] - 9s 9s/step\n",
            "1/1 [==============================] - 11s 11s/step\n",
            "1/1 [==============================] - 11s 11s/step\n",
            "1/1 [==============================] - 12s 12s/step\n",
            "1/1 [==============================] - 11s 11s/step\n",
            "1/1 [==============================] - 10s 10s/step\n",
            "1/1 [==============================] - 10s 10s/step\n",
            "1/1 [==============================] - 11s 11s/step\n",
            "1/1 [==============================] - 11s 11s/step\n",
            "1/1 [==============================] - 11s 11s/step\n",
            "1/1 [==============================] - 10s 10s/step\n",
            "1/1 [==============================] - 10s 10s/step\n",
            "1/1 [==============================] - 11s 11s/step\n",
            "1/1 [==============================] - 11s 11s/step\n",
            "1/1 [==============================] - 5s 5s/step\n",
            "1/1 [==============================] - 11s 11s/step\n",
            "1/1 [==============================] - 11s 11s/step\n",
            "1/1 [==============================] - 10s 10s/step\n",
            "1/1 [==============================] - 10s 10s/step\n",
            "1/1 [==============================] - 11s 11s/step\n",
            "1/1 [==============================] - 11s 11s/step\n",
            "1/1 [==============================] - 12s 12s/step\n",
            "1/1 [==============================] - 11s 11s/step\n",
            "1/1 [==============================] - 11s 11s/step\n",
            "1/1 [==============================] - 11s 11s/step\n",
            "1/1 [==============================] - 11s 11s/step\n",
            "1/1 [==============================] - 9s 9s/step\n",
            "1/1 [==============================] - 10s 10s/step\n",
            "1/1 [==============================] - 11s 11s/step\n",
            "1/1 [==============================] - 11s 11s/step\n",
            "1/1 [==============================] - 10s 10s/step\n",
            "1/1 [==============================] - 10s 10s/step\n",
            "1/1 [==============================] - 11s 11s/step\n",
            "1/1 [==============================] - 11s 11s/step\n",
            "1/1 [==============================] - 11s 11s/step\n",
            "1/1 [==============================] - 11s 11s/step\n",
            "1/1 [==============================] - 11s 11s/step\n",
            "1/1 [==============================] - 11s 11s/step\n",
            "1/1 [==============================] - 13s 13s/step\n",
            "1/1 [==============================] - 11s 11s/step\n",
            "1/1 [==============================] - 11s 11s/step\n",
            "1/1 [==============================] - 12s 12s/step\n",
            "1/1 [==============================] - 11s 11s/step\n",
            "1/1 [==============================] - 11s 11s/step\n",
            "1/1 [==============================] - 11s 11s/step\n",
            "1/1 [==============================] - 11s 11s/step\n",
            "1/1 [==============================] - 2s 2s/step\n"
          ]
        },
        {
          "output_type": "execute_result",
          "data": {
            "text/plain": [
              "(3000, 5, 5, 512)"
            ]
          },
          "metadata": {},
          "execution_count": 38
        }
      ]
    },
    {
      "cell_type": "code",
      "source": [
        "inputs = keras.Input(shape=(5, 5, 512))\n",
        "x = layers.Flatten()(inputs)\n",
        "x = layers.Dense(256)(x)\n",
        "x = layers.Dropout(0.5)(x)\n",
        "outputs = layers.Dense(1, activation=\"sigmoid\")(x)\n",
        "model = keras.Model(inputs, outputs)\n",
        "model.compile(loss=\"binary_crossentropy\",\n",
        "              optimizer=\"rmsprop\",\n",
        "              metrics=[\"accuracy\"])\n",
        "\n",
        "callbacks = [\n",
        "    keras.callbacks.ModelCheckpoint(\n",
        "      filepath=\"feature_extractionPT1.x\",\n",
        "      save_best_only=True,\n",
        "      monitor=\"val_loss\")\n",
        "]\n",
        "history = model.fit(\n",
        "    train_features, train_labels,\n",
        "    epochs=15,\n",
        "    validation_data=(val_features, val_labels),\n",
        "    callbacks=callbacks)"
      ],
      "metadata": {
        "colab": {
          "base_uri": "https://localhost:8080/"
        },
        "id": "rrbTx4fATyGs",
        "outputId": "40b80f73-1fb4-4b5d-8a89-cb5a91331aad"
      },
      "execution_count": 39,
      "outputs": [
        {
          "output_type": "stream",
          "name": "stdout",
          "text": [
            "Epoch 1/15\n",
            "94/94 [==============================] - 16s 149ms/step - loss: 13.3925 - accuracy: 0.9357 - val_loss: 5.2545 - val_accuracy: 0.9625\n",
            "Epoch 2/15\n",
            "94/94 [==============================] - 6s 60ms/step - loss: 4.1733 - accuracy: 0.9747 - val_loss: 9.2914 - val_accuracy: 0.9585\n",
            "Epoch 3/15\n",
            "94/94 [==============================] - 6s 67ms/step - loss: 1.4125 - accuracy: 0.9887 - val_loss: 4.9386 - val_accuracy: 0.9710\n",
            "Epoch 4/15\n",
            "94/94 [==============================] - 5s 51ms/step - loss: 0.9839 - accuracy: 0.9893 - val_loss: 5.6567 - val_accuracy: 0.9755\n",
            "Epoch 5/15\n",
            "94/94 [==============================] - 7s 76ms/step - loss: 1.1170 - accuracy: 0.9923 - val_loss: 4.9057 - val_accuracy: 0.9760\n",
            "Epoch 6/15\n",
            "94/94 [==============================] - 4s 46ms/step - loss: 0.5845 - accuracy: 0.9957 - val_loss: 5.6758 - val_accuracy: 0.9765\n",
            "Epoch 7/15\n",
            "94/94 [==============================] - 4s 46ms/step - loss: 0.4703 - accuracy: 0.9970 - val_loss: 7.3636 - val_accuracy: 0.9695\n",
            "Epoch 8/15\n",
            "94/94 [==============================] - 5s 53ms/step - loss: 0.4880 - accuracy: 0.9953 - val_loss: 6.0083 - val_accuracy: 0.9745\n",
            "Epoch 9/15\n",
            "94/94 [==============================] - 4s 47ms/step - loss: 0.3857 - accuracy: 0.9953 - val_loss: 6.1635 - val_accuracy: 0.9750\n",
            "Epoch 10/15\n",
            "94/94 [==============================] - 7s 73ms/step - loss: 0.2643 - accuracy: 0.9987 - val_loss: 6.1887 - val_accuracy: 0.9755\n",
            "Epoch 11/15\n",
            "94/94 [==============================] - 5s 49ms/step - loss: 0.0613 - accuracy: 0.9993 - val_loss: 6.1906 - val_accuracy: 0.9755\n",
            "Epoch 12/15\n",
            "94/94 [==============================] - 6s 60ms/step - loss: 0.4566 - accuracy: 0.9967 - val_loss: 5.9209 - val_accuracy: 0.9750\n",
            "Epoch 13/15\n",
            "94/94 [==============================] - 5s 54ms/step - loss: 0.1049 - accuracy: 0.9987 - val_loss: 5.8666 - val_accuracy: 0.9775\n",
            "Epoch 14/15\n",
            "94/94 [==============================] - 5s 49ms/step - loss: 0.1882 - accuracy: 0.9980 - val_loss: 11.3728 - val_accuracy: 0.9660\n",
            "Epoch 15/15\n",
            "94/94 [==============================] - 5s 58ms/step - loss: 0.1420 - accuracy: 0.9980 - val_loss: 7.2477 - val_accuracy: 0.9720\n"
          ]
        }
      ]
    },
    {
      "cell_type": "code",
      "source": [
        "import matplotlib.pyplot as plt\n",
        "acc = history.history[\"accuracy\"]\n",
        "val_acc = history.history[\"val_accuracy\"]\n",
        "loss = history.history[\"loss\"]\n",
        "val_loss = history.history[\"val_loss\"]\n",
        "epochs = range(1, len(acc) + 1)\n",
        "plt.plot(epochs, acc, \"bo\", label=\"Training accuracy\")\n",
        "plt.plot(epochs, val_acc, \"b\", label=\"Validation accuracy\")\n",
        "plt.title(\"Training and validation accuracy\")\n",
        "plt.legend()\n",
        "plt.figure()\n",
        "plt.plot(epochs, loss, \"bo\", label=\"Training loss\")\n",
        "plt.plot(epochs, val_loss, \"b\", label=\"Validation loss\")\n",
        "plt.title(\"Training and validation loss\")\n",
        "plt.legend()\n",
        "plt.show()\n",
        ""
      ],
      "metadata": {
        "colab": {
          "base_uri": "https://localhost:8080/",
          "height": 887
        },
        "id": "ol6ZjlbLUYrw",
        "outputId": "733c1c2a-6547-4cb4-e43d-9e7a36262f80"
      },
      "execution_count": 40,
      "outputs": [
        {
          "output_type": "display_data",
          "data": {
            "text/plain": [
              "<Figure size 640x480 with 1 Axes>"
            ],
            "image/png": "[encoded data removed]"
          },
          "metadata": {}
        },
        {
          "output_type": "display_data",
          "data": {
            "text/plain": [
              "<Figure size 640x480 with 1 Axes>"
            ],
            "image/png": "[encoded data removed]"
          },
          "metadata": {}
        }
      ]
    },
    {
      "cell_type": "code",
      "source": [
        "conv_base  = keras.applications.vgg16.VGG16(\n",
        "    weights=\"imagenet\",\n",
        "    include_top=False)\n",
        "conv_base.trainable = False\n",
        "\n",
        "\n",
        "conv_base.trainable = True\n",
        "print(\"This is the number of trainable weights \"\n",
        "      \"before freezing the conv base:\", len(conv_base.trainable_weights))\n",
        "\n",
        "\n",
        "conv_base.trainable = False\n",
        "print(\"This is the number of trainable weights \"\n",
        "      \"after freezing the conv base:\", len(conv_base.trainable_weights))"
      ],
      "metadata": {
        "colab": {
          "base_uri": "https://localhost:8080/"
        },
        "id": "DIeyOAmGUfEG",
        "outputId": "046501ee-5dc9-41cb-b7ea-71fcfe50466a"
      },
      "execution_count": 41,
      "outputs": [
        {
          "output_type": "stream",
          "name": "stdout",
          "text": [
            "This is the number of trainable weights before freezing the conv base: 26\n",
            "This is the number of trainable weights after freezing the conv base: 0\n"
          ]
        }
      ]
    },
    {
      "cell_type": "code",
      "source": [
        "data_augmentation = keras.Sequential(\n",
        "    [\n",
        "        layers.RandomFlip(\"horizontal\"),\n",
        "        layers.RandomRotation(0.1),\n",
        "        layers.RandomZoom(0.2),\n",
        "    ]\n",
        ")\n",
        "\n",
        "inputs = keras.Input(shape=(180, 180, 3))\n",
        "x = data_augmentation(inputs)\n",
        "x = keras.applications.vgg16.preprocess_input(x)\n",
        "x = conv_base(x)\n",
        "x = layers.Flatten()(x)\n",
        "x = layers.Dense(256)(x)\n",
        "x = layers.Dropout(0.5)(x)\n",
        "outputs = layers.Dense(1, activation=\"sigmoid\")(x)\n",
        "model = keras.Model(inputs, outputs)\n",
        "model.compile(loss=\"binary_crossentropy\",\n",
        "              optimizer=\"rmsprop\",\n",
        "              metrics=[\"accuracy\"])"
      ],
      "metadata": {
        "id": "Ngnbve1dUknj"
      },
      "execution_count": 42,
      "outputs": []
    },
    {
      "cell_type": "code",
      "source": [
        "callbacks = [\n",
        "    keras.callbacks.ModelCheckpoint(\n",
        "        filepath=\"feature_extraction_with_data_augmentationPT2.x\",\n",
        "        save_best_only=True,\n",
        "        monitor=\"val_loss\")\n",
        "]\n",
        "history = model.fit(\n",
        "    train_dataset,\n",
        "    epochs=5,\n",
        "    validation_data=validation_dataset,\n",
        "    callbacks=callbacks)"
      ],
      "metadata": {
        "colab": {
          "base_uri": "https://localhost:8080/"
        },
        "id": "uw5T8PRuUou2",
        "outputId": "20d79b67-63a5-4bc9-b210-81b4c2b37cb4"
      },
      "execution_count": null,
      "outputs": [
        {
          "output_type": "stream",
          "name": "stdout",
          "text": [
            "Epoch 1/5\n",
            "94/94 [==============================] - 1768s 19s/step - loss: 19.0464 - accuracy: 0.9070 - val_loss: 5.1251 - val_accuracy: 0.9680\n",
            "Epoch 2/5\n",
            "94/94 [==============================] - 1686s 18s/step - loss: 6.5667 - accuracy: 0.9530 - val_loss: 4.1836 - val_accuracy: 0.9765\n",
            "Epoch 3/5\n",
            "94/94 [==============================] - 1693s 18s/step - loss: 5.9281 - accuracy: 0.9577 - val_loss: 4.6219 - val_accuracy: 0.9740\n",
            "Epoch 4/5\n",
            "61/94 [==================>...........] - ETA: 5:53 - loss: 4.2165 - accuracy: 0.9652"
          ]
        }
      ]
    }
  ]
}